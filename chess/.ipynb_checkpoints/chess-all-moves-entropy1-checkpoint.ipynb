{
 "cells": [
  {
   "cell_type": "markdown",
   "metadata": {},
   "source": [
    "# Understanding Black-Box Chess Agents\n",
    "This notebook generates saliency maps for a move played by the stockfish engine. The saliency maps give an insight to the tactic behind a particular move."
   ]
  },
  {
   "cell_type": "code",
   "execution_count": 1,
   "metadata": {},
   "outputs": [],
   "source": [
    "import chess #version: 0.27.3\n",
    "import chess.uci\n",
    "import chess.pgn\n",
    "import sys\n",
    "import math\n",
    "import matplotlib.pyplot as plt\n",
    "import copy\n",
    "import cairosvg\n",
    "import cv2\n",
    "import time\n",
    "import numpy as np\n",
    "import svg_custom.svg_custom as svg_custom # use chess.svg if you don't want the board in B/W\n",
    "\n",
    "# load your engine:\n",
    "handler = chess.uci.InfoHandler()\n",
    "engine = chess.uci.popen_engine('/home/dhruv/rl/stockfish/stockfish-10-linux/Linux/stockfish_10_x64') #give path to your engine here\n",
    "engine.info_handlers.append(handler)\n",
    "# board\n"
   ]
  },
  {
   "cell_type": "code",
   "execution_count": 2,
   "metadata": {},
   "outputs": [],
   "source": [
    "import numpy as np\n",
    "from scipy.stats import entropy\n",
    "from scipy.spatial.distance import jensenshannon\n",
    "\n",
    "def your_softmax(x):\n",
    "    \"\"\"Compute softmax values for each sets of scores in x.\"\"\"\n",
    "    e_x = np.exp(x - np.max(x))\n",
    "    return e_x / e_x.sum()\n",
    "\n",
    "def your_entropy(q_vals):\n",
    "    entropy_q = [i*math.log(i)/math.log(2) for i in q_vals]\n",
    "    entropy = sum(entropy_q)*-1\n",
    "    return entropy\n",
    "\n",
    "def return_q_vals(board, legal_moves, eval_time=100):\n",
    "    \"\"\"\n",
    "    This function calculates Q-values of every move for the given board.\n",
    "    Input:\n",
    "        board: chess.Board()\n",
    "        legal_moves: List of legal moves of original state\n",
    "        eval_time: Search time for stockfish\n",
    "    Output:\n",
    "        q_vals: np array of Q values of required moves\n",
    "        max_move: chess.Move() - Best move in perturbed state\n",
    "        second_max_move: chess.Move() - Second best move in perturbed state\n",
    "        \"\"\"\n",
    "    i = 0\n",
    "    q_vals = []\n",
    "    \n",
    "    maxq = -100000000\n",
    "    second_maxq = -100000000\n",
    "    max_move = None\n",
    "    \n",
    "    set_current_legal_moves = set(board.legal_moves)\n",
    "    set_original_legal_moves = set(legal_moves)\n",
    "    intersection_set = set_current_legal_moves.intersection(set_original_legal_moves)\n",
    "    second_max_move = None\n",
    "    \n",
    "    print('Total Legal Moves : ', len(intersection_set))\n",
    "\n",
    "    for el in legal_moves:\n",
    "        if el in intersection_set:\n",
    "            i += 1\n",
    "            print(i,'\\r',end = '')\n",
    "\n",
    "            engine.go(searchmoves=[el],movetime=eval_time)\n",
    "            if handler.info[\"score\"][1].cp is None:\n",
    "                score = handler.info[\"score\"][1].mate\n",
    "            else:\n",
    "                score = round(handler.info[\"score\"][1].cp/100.0,2)\n",
    "            q_vals.append(score)\n",
    "            \n",
    "            if(score > maxq):\n",
    "                \n",
    "                second_maxq = maxq\n",
    "                maxq = score\n",
    "                \n",
    "                second_max_move = max_move\n",
    "                max_move = el\n",
    "            \n",
    "            elif(score > second_maxq and score != maxq):\n",
    "                second_maxq = score\n",
    "                second_max_move = el\n",
    "\n",
    "    return np.asarray(q_vals), max_move, second_max_move\n",
    "\n",
    "def moves_q_vals(board, legal_moves, eval_time, original_move):\n",
    "    \"\"\"\n",
    "    This function returns a dictionary of Q-values for every move.\n",
    "    Input:\n",
    "        board: chess.Board()\n",
    "        legal_moves: List of legal moves of original state\n",
    "        eval_time: Search time for stockfish\n",
    "        original_move: original best move (chess.Move()) \n",
    "    Output:\n",
    "        q_vals_dict: Dictionary of move with respective Q-value\n",
    "        q_vals: np array of Q values of required moves\n",
    "        max_move: chess.Move() - Best move in perturbed state\n",
    "        second_max_move: chess.Move() - Second best move in perturbed state\n",
    "    \"\"\"\n",
    "    \n",
    "    i = 0\n",
    "    q_vals_dict = {}\n",
    "    q_vals = []\n",
    "    \n",
    "    maxq = -100000000\n",
    "    second_maxq = -100000000\n",
    "    max_move = None\n",
    "    \n",
    "    set_current_legal_moves = set(board.legal_moves)\n",
    "    set_original_legal_moves = set(legal_moves)\n",
    "    intersection_set = set_current_legal_moves.intersection(set_original_legal_moves)\n",
    "    second_max_move = None\n",
    "    \n",
    "    print('Total Legal Moves : ', len(intersection_set))\n",
    "\n",
    "    for el in legal_moves:\n",
    "        if el in intersection_set:\n",
    "            i += 1\n",
    "            print(i,'\\r',end = '')\n",
    "\n",
    "            engine.go(searchmoves=[el],movetime=eval_time)\n",
    "#             score = 0.\n",
    "            if handler.info[\"score\"][1].cp is None:\n",
    "                score = handler.info[\"score\"][1].mate\n",
    "            else:\n",
    "                score = round(handler.info[\"score\"][1].cp/100.0,2)\n",
    "            if el != original_move:\n",
    "                q_vals_dict[el.uci()] = score\n",
    "            q_vals.append(score)\n",
    "            if(score > maxq):\n",
    "                \n",
    "                second_maxq = maxq\n",
    "                maxq = score\n",
    "                \n",
    "                second_max_move = max_move\n",
    "                max_move = el\n",
    "            \n",
    "            elif(score > second_maxq and score != maxq):\n",
    "                second_maxq = score\n",
    "                second_max_move = el\n",
    "\n",
    "    return q_vals_dict, np.asarray(q_vals), max_move, second_max_move\n",
    "\n",
    "\n",
    "def heat_policy_atari(dictP, dictQ):\n",
    "    \"\"\"\n",
    "    This function calculates L2-norm of 2 policies\n",
    "    Input:\n",
    "        dictP: Policy 1 dictionary of moves with Q-values\n",
    "        dictQ: Policy 2 dictionary of moves with Q-values\n",
    "    \"\"\"\n",
    "    Dpq = 0.\n",
    "    Q_p = [] #values of moves in dictP^dictQ wrt P\n",
    "    Q_q = [] #values of moves in dictP^dictQ wrt Q\n",
    "    dic = dictP.copy()\n",
    "    dic.update(dictQ)\n",
    "    for move in dic:\n",
    "        if move in dictP:\n",
    "            Q_p.append(dictP[move])\n",
    "        else:\n",
    "            Q_p.append(0.)\n",
    "        if move in dictQ:\n",
    "            Q_q.append(dictQ[move])\n",
    "        else:\n",
    "            Q_q.append(0.)\n",
    "    # converting Q-values into probability distribution        \n",
    "    Q_p = your_softmax(np.asarray(Q_p))\n",
    "    Q_q = your_softmax(np.asarray(Q_q))\n",
    "    \n",
    "    S = np.linalg.norm(Q_q - Q_p)\n",
    "\n",
    "    return S\n",
    "\n",
    "\n",
    "def cross_entropy(dictP, dictQ):\n",
    "    \"\"\"\n",
    "    This function calculates normalized cross entropy (KL divergence) of Q-values of state Q wrt state P.\n",
    "    Input:\n",
    "        dictP: Q-value dictionary of perturbed state\n",
    "        dictQ: Q-value dictionary of original state\n",
    "    Output:p = policy[:best_move+1]\n",
    "    p = np.append(p, policy[best_move+1:])\n",
    "\n",
    "        K: normalized cross entropy\n",
    "    \"\"\"\n",
    "    Dpq = 0.\n",
    "    Q_p = [] #values of moves in dictP^dictQ wrt P\n",
    "    Q_q = [] #values of moves in dictP^dictQ wrt Q\n",
    "    for move in dictP:\n",
    "        if move in dictQ:\n",
    "            Q_p.append(dictP[move])\n",
    "            Q_q.append(dictQ[move])\n",
    "    # converting Q-values into probability distribution        \n",
    "    Q_p = your_softmax(np.asarray(Q_p))\n",
    "    Q_q = your_softmax(np.asarray(Q_q))\n",
    "    KL = entropy(Q_q, Q_p)\n",
    "    return (KL)/(KL + 1.)\n"
   ]
  },
  {
   "cell_type": "markdown",
   "metadata": {},
   "source": [
    "# Generate saliency maps using our cross-entropy method\n",
    "We took 15 board positions from lichess.com and explained them using saliency maps. These maps are overlaid onto the chess board for ease of interpretation.\n",
    "\n",
    "You can load your own board positions (fen notation) by changing board_configs.\n",
    "\n",
    "**Note: <br>\n",
    "    Change save path of maps <br>\n",
    "    This code works for board positions where it is white's turn. See stockfish's evaluation documentation to modify it to work correctly for black's turn**"
   ]
  },
  {
   "cell_type": "code",
   "execution_count": null,
   "metadata": {
    "scrolled": true
   },
   "outputs": [],
   "source": [
    "######################## heatmaps for cross entropy method\n",
    "    \n",
    "board_configs = {}\n",
    "board_configs['queen_trap'] = '2r1r1k1/b4ppp/p3p3/Pp2Nq2/1Pbp1B2/R7/2PQ1PP1/4R1K1 w - - 0 1'\n",
    "board_configs['queen_fork'] = 'rnbq1rk1/pp2bppp/4p3/3p3n/3P1B2/3B1N2/PPPNQPPP/R3K2R w KQkq - 0 1'\n",
    "board_configs['bishop_takes_rook'] = 'rnbqk1nr/1p3ppp/4p3/2bp4/8/p3PN2/1BP2PPP/RN1QKB1R w - - 0 1'\n",
    "board_configs['pawn_takes_bishop'] = '1k3r2/p6p/2p1Bp2/4p3/1b1pP3/3P2P1/P1K4P/5R2 w - - 0 1'\n",
    "board_configs['showdown'] = 'rn1qk1nr/p1pp1ppp/1pb1p3/8/2BQ4/2P2N2/PPP2PPP/R1B2RK1 w - - 0 1'\n",
    "board_configs['rook_captures_queen'] = 'r1r5/2k3pp/2p2p2/1pR1pq2/PQ1n4/3P4/1P4PP/1KRB4 w - - 0 1'\n",
    "board_configs['knight_captures_queen'] = 'r2r4/1kp2p1p/1q2b1p1/R7/Q7/P1N5/1PP4P/1K5R w - - 0 1'\n",
    "board_configs['rook_up'] = '4r1k1/1R4p1/4qp1p/8/3r4/1Q3R1P/6P1/7K w - - 0 1'\n",
    "board_configs['queen_exchange'] = '2kr3r/bbqp1pp1/p3p3/1p2n3/1P1NPBnp/P2B2QP/2P1NPP1/R1R3K1 w - - 0 1'\n",
    "board_configs['discover_attack'] = '1r6/pkp2p1p/5b2/5p2/5P2/q1PP4/2R1N2P/1K4Q1 w - - 0 1'\n",
    "board_configs['standoff'] = '1kr5/pr4p1/5n1p/5p2/3P4/qbR2P1P/B2Q1NP1/K6R w - - 0 1'\n",
    "board_configs['rook_takes_bishop'] = '1kr2b1r/1pq2bpp/p3np2/2p1p3/4P3/2N1BPN1/PPPR1QPP/1K1R4 w - - 0 1'\n",
    "board_configs['bishop_takes_queen'] = '5rk1/p1q2ppp/1p2p1n1/2p1r2Q/2P5/3B4/PP3PPP/3RR1K1 w - - 0 1'\n",
    "board_configs['bishop_up'] = '4rrk1/pp1qp1bp/2pnbpp1/8/3PNP2/2PB4/PP2Q1PP/R1B2RK1 w - - 0 1'\n",
    "board_configs['bishop_fork'] = '2b1r1k1/2q1bppp/2p3n1/r1B1p3/N3n3/5N2/P3BPPP/2RQ1RK1 w - - 0 1'\n",
    "\n",
    "for board_name in board_configs:\n",
    "    print(\"***********************\", board_name, \"**********************\")\n",
    "    time.sleep(1)\n",
    "    board = chess.Board(board_configs[board_name])\n",
    "    evaltime = 100\n",
    "    \n",
    "    # set original state \n",
    "    engine.position(board)\n",
    "    evaluation = engine.go(movetime=evaltime)\n",
    "    original_move = evaluation.bestmove\n",
    "\n",
    "    legal_moves = list(board.legal_moves)[:]\n",
    "\n",
    "    \n",
    "    # Q-values for original state\n",
    "    q_vals_dict_og, q_vals, _,second_best_move  = moves_q_vals(board, legal_moves, evaltime, original_move)\n",
    "\n",
    "    q_old = np.max(q_vals)\n",
    "\n",
    "    \n",
    "    # probability of original_move in original state\n",
    "    old_score = np.exp(max(q_vals))/np.sum(np.exp(q_vals))\n",
    "\n",
    "    # policy of original state\n",
    "#     softmax = your_softmax(q_vals)\n",
    "#     entropy_og = entropy(softmax)\n",
    "\n",
    "    print(\"Original score (Initial probability of best action): \", old_score)\n",
    "    print(\"Original value : \", max(q_vals))\n",
    "    print(\"Entropy (original) = \", entropy_og)\n",
    "    print(\"Best Move is \", original_move)\n",
    "    heatmap = np.zeros((8, 8))\n",
    "#     entropy_map = np.zeros((8,8))\n",
    "\n",
    "    for i in range(64):\n",
    "        h = i//8 \n",
    "        w = i%8\n",
    "        \n",
    "        # perturb board\n",
    "        piece_removed = board.remove_piece_at(i)\n",
    "\n",
    "        # Evaluate the board on the basis of the value\n",
    "        if piece_removed is not None:\n",
    "\n",
    "            # If king is removed or if board position is illegal set it back \n",
    "            if (piece_removed == chess.Piece(6,True) or piece_removed == chess.Piece(6,False)) or board.was_into_check():\n",
    "                board.set_piece_at(i, piece_removed)\n",
    "            else:\n",
    "                # set perturbed state\n",
    "                engine.position(board)\n",
    "\n",
    "                # Check if the original move is still valid\n",
    "                if board.is_legal(original_move):\n",
    "\n",
    "                    # Find the index of the original move in the list of legal moves\n",
    "                    j = 0\n",
    "                    original_move_index = 0\n",
    "                    for el in legal_moves:\n",
    "                        if el in board.legal_moves:\n",
    "                            if(el == original_move):\n",
    "                                original_move_index = j\n",
    "                            j+=1\n",
    "\n",
    "                    # Find the q values \n",
    "                    q_vals_dict_new, q_vals, new_best_move, new_second_best_move = moves_q_vals(board, legal_moves, evaltime, original_move)\n",
    "\n",
    "                    # probability of original move in perturbed state\n",
    "                    new_score = np.exp(q_vals[original_move_index])/np.sum(np.exp(q_vals))\n",
    "\n",
    "                    new_q = q_vals[original_move_index]\n",
    "\n",
    "                    K = cross_entropy(q_vals_dict_new, q_vals_dict_og)\n",
    "\n",
    "                    dP = old_score - new_score\n",
    "\n",
    "                    if new_score < old_score: # harmonic mean\n",
    "                        heatmap[h, w] = 2*dP/(1 + dP*K)\n",
    "                    else:\n",
    "                        heatmap[h, w] = 0.\n",
    "\n",
    "                    print(\"Delta P = \", dP)\n",
    "                    print(\"KL normalized = \", K)\n",
    "                    print('Removed', piece_removed, 'from position:', (h, w))\n",
    "                    print('------------------------------------------')\n",
    "                \n",
    "                else:\n",
    "                    # illegal original move in perturbed state\n",
    "                    heatmap[h, w] = -1.\n",
    "\n",
    "                # undo perturbation\n",
    "                board.set_piece_at(i, piece_removed)\n",
    "\n",
    "    heatmap = np.flipud(heatmap)\n",
    "    \n",
    "    \n",
    "    # If original move is not valid, give highest value in the heat map\n",
    "    heatmap[heatmap == -1] = np.max(heatmap)\n",
    "    \n",
    "    \n",
    "    \n",
    "    ### Original Saliency Map (without overlay onto board)\n",
    "    \n",
    "    plt.figure(1)\n",
    "    plt.imshow(heatmap, cmap='OrRd')\n",
    "    plt.colorbar()\n",
    "    plt.savefig('results/entropy/map_'+board_name+'.png')\n",
    "    plt.show()    \n",
    "\n",
    "\n",
    "    #### Saliency map overlaid on board\n",
    "    \n",
    "    svg = svg_custom.board(board) \n",
    "    with open('board.svg', 'w+') as f:\n",
    "        f.write(svg)\n",
    "    cairosvg.svg2png(url='board.svg', write_to='board.png')\n",
    "\n",
    "    # original board as a numpy array\n",
    "    board_array = cv2.imread('board.png')\n",
    "\n",
    "    fig=plt.figure()\n",
    "    ax=fig.add_subplot(1,1,1)\n",
    "    plt.axis('off')\n",
    "    plt.imshow(heatmap, cmap='OrRd')\n",
    "    extent = ax.get_window_extent().transformed(fig.dpi_scale_trans.inverted())\n",
    "    plt.savefig('/tmp/test.png', bbox_inches='tight', pad_inches=0)\n",
    "\n",
    "    img = cv2.imread('/tmp/test.png')\n",
    "    print(img.shape) # should be 400x400 for overlay to be correct\n",
    "\n",
    "    threshold = 200 # grayscale threshold for saliency. Saliency values above this threshold won't be mapped onto board\n",
    "    \n",
    "    n = board_array.shape[0]\n",
    "    m = board_array.shape[1]\n",
    "    # Create bounding boxes with saliency colours for every square on chess board\n",
    "    for i in range(0, 8, 1):\n",
    "        for j in range(0, 8, 1):\n",
    "            color_i = i*27 + 13\n",
    "            color_j = j*27 + 13\n",
    "            ii = 45*i+20\n",
    "            jj = 45*j+20\n",
    "            grayscale = 0.299*img[color_i, color_j][2] + 0.587*img[color_i, color_j][1] + 0.114*img[color_i, color_j][0]\n",
    "            if grayscale > threshold:\n",
    "                continue\n",
    "            for box_i in range(ii, ii+44, 1):\n",
    "                for box_j in range(jj, jj+44, 1):\n",
    "                    if box_i > ii+4 and box_i < ii+40 and box_j > jj+4 and box_j < jj+40:\n",
    "                        continue\n",
    "                    board_array[box_i, box_j] = img[color_i, color_j]\n",
    "\n",
    "\n",
    "    cv2.imwrite(\"results/entropy/\" + board_name + \".png\",board_array)\n"
   ]
  },
  {
   "cell_type": "markdown",
   "metadata": {},
   "source": [
    "# Generate Saliency Maps using other methods\n"
   ]
  },
  {
   "cell_type": "code",
   "execution_count": null,
   "metadata": {
    "scrolled": true
   },
   "outputs": [],
   "source": [
    "######################## heatmaps for other comparison methods\n",
    "\n",
    "for board_name in board_configs:\n",
    "    print(\"*************************\" + board_name + \"*****************************\")\n",
    "    time.sleep(1)\n",
    "    board = chess.Board(board_configs[board_name])\n",
    "    handler = chess.uci.InfoHandler()\n",
    "    engine = chess.uci.popen_engine('/home/dhruv/rl/stockfish/stockfish-10-linux/Linux/stockfish_10_x64') #give correct address of your engine here\n",
    "    engine.info_handlers.append(handler)\n",
    "    \n",
    "    engine.position(board)\n",
    "    evaltime = 100 \n",
    "    best_evaluation = engine.go(movetime=evaltime)\n",
    "    \n",
    "    # V of original state (This is also Q(original state, best action))\n",
    "    V = handler.info[\"score\"][1].cp/100.0\n",
    "    move_to_take = [best_evaluation[0]]\n",
    "    print(\"Original value : \", V)\n",
    "    \n",
    "    # V-based method\n",
    "    heatmap = np.zeros((8,8))\n",
    "    # Q-based method\n",
    "    heatmapQ = np.zeros((8,8))\n",
    "    \n",
    "    for i in range(8):\n",
    "        for j in range(8):\n",
    "            pos = 8*(7-i) + j\n",
    "            #perturb board\n",
    "            piece = board.remove_piece_at(pos)\n",
    "            \n",
    "            if piece is None or piece.piece_type is 6 or board.was_into_check() or board.is_legal(move_to_take[0]) is False:\n",
    "                heatmap[i][j] = 0.\n",
    "                heatmapQ[i, j] = 0.\n",
    "            else:\n",
    "                print(\"-----------------------------\")\n",
    "                print(\"Position : \", i, j)\n",
    "                print(\"Piece : \", piece)\n",
    "                \n",
    "                engine.position(board)\n",
    "                p_evaluation = engine.go(searchmoves=move_to_take, movetime=evaltime)\n",
    "                # Q for original move in perturbed state\n",
    "                if handler.info[\"score\"][1].cp is None:\n",
    "                    p_Q = handler.info[\"score\"][1].mate\n",
    "                else:\n",
    "                    p_Q = handler.info[\"score\"][1].cp/100.0\n",
    "                \n",
    "                \n",
    "                engine.position(board)\n",
    "                p_evaluation = engine.go(movetime=evaltime)\n",
    "                # V of perturbed_state\n",
    "                if handler.info[\"score\"][1].cp is None:\n",
    "                    p_V = handler.info[\"score\"][1].mate\n",
    "                else:\n",
    "                    p_V = handler.info[\"score\"][1].cp/100.0\n",
    "                print(\"New Action Value : \", p_Q)\n",
    "                print(\"New State Value : \", p_V)\n",
    "                heatmap[i][j] = pow(V - p_V,2)*0.5\n",
    "                heatmapQ[i, j] = max(V - p_Q, 0)\n",
    "                \n",
    "            board.set_piece_at(pos, piece)\n",
    "    \n",
    "    \n",
    "    \n",
    "##### Original Saliency maps\n",
    "    \n",
    "    plt.figure(1)\n",
    "    plt.imshow(heatmap, cmap='OrRd')\n",
    "    plt.savefig('results/value_l2/V_map_' + board_name + '.png')\n",
    "    \n",
    "    plt.figure(2)\n",
    "    plt.imshow(heatmapQ, cmap='OrRd')\n",
    "    plt.savefig('results/action_value/Q_map_' + board_name + '.png')\n",
    "    \n",
    "    \n",
    "##### Saliency maps on the chess board    \n",
    "    \n",
    "    ########## Saving 0.5*(V1 - V2)**2\n",
    "    svg = svg_custom.board(board)\n",
    "    with open('board.svg', 'w+') as f:\n",
    "        f.write(svg)\n",
    "    cairosvg.svg2png(url='board.svg', write_to='board.png')\n",
    "    board_array = cv2.imread('board.png')\n",
    "\n",
    "    fig=plt.figure()\n",
    "    ax=fig.add_subplot(1,1,1)\n",
    "    plt.axis('off')\n",
    "    plt.imshow(heatmap, cmap='OrRd')\n",
    "    extent = ax.get_window_extent().transformed(fig.dpi_scale_trans.inverted())\n",
    "    plt.savefig('/tmp/test.png', bbox_inches='tight', pad_inches=0)\n",
    "\n",
    "    img = cv2.imread('/tmp/test.png')\n",
    "    print(img.shape)\n",
    "\n",
    "    n = board_array.shape[0]\n",
    "    m = board_array.shape[1]\n",
    "    color_threshold = 200\n",
    "    for i in range(0, 8, 1):\n",
    "        for j in range(0, 8, 1):\n",
    "            color_i = i*27 + 13\n",
    "            color_j = j*27 + 13\n",
    "            ii = 45*i+20\n",
    "            jj = 45*j+20\n",
    "            grayscale = 0.299*img[color_i, color_j][2] + 0.587*img[color_i, color_j][1] + 0.114*img[color_i, color_j][0]\n",
    "            if grayscale > 200:\n",
    "                continue\n",
    "\n",
    "            for box_i in range(ii, ii+44, 1):\n",
    "                for box_j in range(jj, jj+44, 1):\n",
    "                    if box_i > ii+4 and box_i < ii+40 and box_j > jj+4 and box_j < jj+40:\n",
    "                        continue\n",
    "                    board_array[box_i, box_j] = img[color_i, color_j]\n",
    "\n",
    "    cv2.imwrite(\"results/value_l2/V_\" + board_name + \".png\" ,board_array)\n",
    "    \n",
    "    \n",
    "    ############# Saving Q2 - Q1\n",
    "    \n",
    "    svg = svg_custom.board(board)\n",
    "    with open('board.svg', 'w+') as f:\n",
    "        f.write(svg)\n",
    "    cairosvg.svg2png(url='board.svg', write_to='board.png')\n",
    "    board_array = cv2.imread('board.png')\n",
    "\n",
    "    fig=plt.figure()\n",
    "    ax=fig.add_subplot(1,1,1)\n",
    "    plt.axis('off')\n",
    "    plt.imshow(heatmapQ, cmap='OrRd')\n",
    "    extent = ax.get_window_extent().transformed(fig.dpi_scale_trans.inverted())\n",
    "    plt.savefig('/tmp/test.png', bbox_inches='tight', pad_inches=0)\n",
    "\n",
    "    img = cv2.imread('/tmp/test.png')\n",
    "    print(img.shape)\n",
    "\n",
    "\n",
    "    n = board_array.shape[0]\n",
    "    m = board_array.shape[1]\n",
    "    for i in range(0, 8, 1):\n",
    "        for j in range(0, 8, 1):\n",
    "            color_i = i*27 + 13\n",
    "            color_j = j*27 + 13\n",
    "            ii = 45*i+20\n",
    "            jj = 45*j+20\n",
    "            grayscale = 0.299*img[color_i, color_j][2] + 0.587*img[color_i, color_j][1] + 0.114*img[color_i, color_j][0]\n",
    "            if grayscale > 200:\n",
    "                continue\n",
    "            for box_i in range(ii, ii+44, 1):\n",
    "                for box_j in range(jj, jj+44, 1):\n",
    "                    if box_i > ii+4 and box_i < ii+40 and box_j > jj+4 and box_j < jj+40:\n",
    "                        continue\n",
    "                    board_array[box_i, box_j] = img[color_i, color_j]\n",
    "    \n",
    "\n",
    "    cv2.imwrite(\"results/action_value/Q_\" + board_name + \".png\" ,board_array)\n",
    "    "
   ]
  },
  {
   "cell_type": "code",
   "execution_count": 54,
   "metadata": {
    "scrolled": false
   },
   "outputs": [
    {
     "name": "stdout",
     "output_type": "stream",
     "text": [
      "*********************** queen_trap **********************\n",
      "Total Legal Moves :  44\n",
      "Total Legal Moves :  44\n",
      "Total Legal Moves :  44\n",
      "Total Legal Moves :  44\n",
      "Total Legal Moves :  44\n",
      "Total Legal Moves :  44\n",
      "Total Legal Moves :  44\n",
      "Total Legal Moves :  44\n",
      "Total Legal Moves :  44\n",
      "Total Legal Moves :  44\n",
      "Total Legal Moves :  44\n",
      "Total Legal Moves :  36\n",
      "Total Legal Moves :  44\n",
      "Total Legal Moves :  44\n",
      "Total Legal Moves :  44\n",
      "Total Legal Moves :  43\n",
      "Total Legal Moves :  39\n",
      "Total Legal Moves :  34\n",
      "Total Legal Moves :  43\n",
      "Total Legal Moves :  37\n",
      "Total Legal Moves :  43\n",
      "Total Legal Moves :  36\n",
      "(217, 217, 3)\n",
      "*********************** queen_fork **********************\n",
      "Total Legal Moves :  49\n",
      "Total Legal Moves :  49\n",
      "Total Legal Moves :  49\n",
      "Total Legal Moves :  49\n",
      "Total Legal Moves :  49\n",
      "Total Legal Moves :  49\n",
      "Total Legal Moves :  49\n",
      "Total Legal Moves :  49\n",
      "Total Legal Moves :  49\n",
      "Total Legal Moves :  49\n",
      "Total Legal Moves :  49\n",
      "Total Legal Moves :  49\n",
      "Total Legal Moves :  49\n",
      "Total Legal Moves :  49\n",
      "Total Legal Moves :  49\n",
      "Total Legal Moves :  49\n",
      "Total Legal Moves :  42\n",
      "Total Legal Moves :  45\n",
      "Total Legal Moves :  47\n",
      "Total Legal Moves :  47\n",
      "Total Legal Moves :  47\n",
      "Total Legal Moves :  44\n",
      "Total Legal Moves :  43\n",
      "Total Legal Moves :  49\n",
      "Total Legal Moves :  47\n",
      "Total Legal Moves :  47\n",
      "Total Legal Moves :  45\n",
      "Total Legal Moves :  46\n",
      "(217, 217, 3)\n",
      "*********************** bishop_takes_rook **********************\n",
      "Total Legal Moves :  39\n",
      "Total Legal Moves :  39\n",
      "Total Legal Moves :  39\n",
      "Total Legal Moves :  39\n",
      "Total Legal Moves :  39\n",
      "Total Legal Moves :  39\n",
      "Total Legal Moves :  39\n",
      "Total Legal Moves :  39\n",
      "Total Legal Moves :  39\n",
      "Total Legal Moves :  39\n",
      "Total Legal Moves :  39\n",
      "Total Legal Moves :  39\n",
      "Total Legal Moves :  39\n",
      "Total Legal Moves :  38\n",
      "Total Legal Moves :  39\n",
      "Total Legal Moves :  38\n",
      "Total Legal Moves :  33\n",
      "Total Legal Moves :  37\n",
      "Total Legal Moves :  39\n",
      "Total Legal Moves :  37\n",
      "Total Legal Moves :  37\n",
      "Total Legal Moves :  37\n",
      "Total Legal Moves :  36\n",
      "Total Legal Moves :  33\n",
      "Total Legal Moves :  34\n",
      "Total Legal Moves :  38\n",
      "(217, 217, 3)\n",
      "*********************** pawn_takes_bishop **********************\n",
      "Total Legal Moves :  32\n",
      "Total Legal Moves :  32\n",
      "Total Legal Moves :  32\n",
      "Total Legal Moves :  32\n",
      "Total Legal Moves :  32\n",
      "Total Legal Moves :  22\n",
      "Total Legal Moves :  32\n",
      "Total Legal Moves :  32\n",
      "Total Legal Moves :  32\n",
      "Total Legal Moves :  32\n",
      "Total Legal Moves :  32\n",
      "Total Legal Moves :  32\n",
      "Total Legal Moves :  31\n",
      "Total Legal Moves :  30\n",
      "Total Legal Moves :  30\n",
      "(217, 217, 3)\n",
      "*********************** showdown **********************\n",
      "Total Legal Moves :  45\n",
      "Total Legal Moves :  45\n",
      "Total Legal Moves :  45\n",
      "Total Legal Moves :  45\n",
      "Total Legal Moves :  45\n",
      "Total Legal Moves :  45\n",
      "Total Legal Moves :  45\n",
      "Total Legal Moves :  45\n",
      "Total Legal Moves :  45\n",
      "Total Legal Moves :  45\n",
      "Total Legal Moves :  45\n",
      "Total Legal Moves :  45\n",
      "Total Legal Moves :  45\n",
      "Total Legal Moves :  45\n",
      "Total Legal Moves :  45\n",
      "Total Legal Moves :  38\n",
      "Total Legal Moves :  45\n",
      "Total Legal Moves :  40\n",
      "Total Legal Moves :  43\n",
      "Total Legal Moves :  43\n",
      "Total Legal Moves :  45\n",
      "Total Legal Moves :  45\n",
      "Total Legal Moves :  43\n",
      "Total Legal Moves :  43\n",
      "Total Legal Moves :  44\n",
      "Total Legal Moves :  40\n",
      "Total Legal Moves :  43\n",
      "(217, 217, 3)\n",
      "*********************** rook_captures_queen **********************\n",
      "Total Legal Moves :  34\n",
      "Total Legal Moves :  34\n",
      "Total Legal Moves :  34\n",
      "Total Legal Moves :  34\n",
      "Total Legal Moves :  34\n",
      "Total Legal Moves :  34\n",
      "Total Legal Moves :  33\n",
      "Total Legal Moves :  27\n",
      "Total Legal Moves :  34\n",
      "Total Legal Moves :  34\n",
      "Total Legal Moves :  30\n",
      "Total Legal Moves :  34\n",
      "Total Legal Moves :  33\n",
      "Total Legal Moves :  32\n",
      "Total Legal Moves :  32\n",
      "Total Legal Moves :  31\n",
      "Total Legal Moves :  28\n",
      "(217, 217, 3)\n",
      "*********************** knight_captures_queen **********************\n",
      "Total Legal Moves :  39\n",
      "Total Legal Moves :  39\n",
      "Total Legal Moves :  39\n",
      "Total Legal Moves :  39\n",
      "Total Legal Moves :  39\n",
      "Total Legal Moves :  39\n",
      "Total Legal Moves :  39\n",
      "Total Legal Moves :  39\n",
      "Total Legal Moves :  39\n",
      "Total Legal Moves :  29\n",
      "Total Legal Moves :  39\n",
      "Total Legal Moves :  33\n",
      "Total Legal Moves :  39\n",
      "Total Legal Moves :  37\n",
      "Total Legal Moves :  34\n",
      "(217, 217, 3)\n",
      "*********************** rook_up **********************\n",
      "Total Legal Moves :  40\n",
      "Total Legal Moves :  40\n",
      "Total Legal Moves :  30\n",
      "Total Legal Moves :  40\n",
      "Total Legal Moves :  40\n",
      "Total Legal Moves :  40\n",
      "Total Legal Moves :  40\n",
      "Total Legal Moves :  24\n",
      "Total Legal Moves :  39\n",
      "Total Legal Moves :  38\n",
      "(217, 217, 3)\n",
      "*********************** queen_exchange **********************\n",
      "Total Legal Moves :  32\n",
      "Total Legal Moves :  32\n",
      "Total Legal Moves :  32\n",
      "Total Legal Moves :  32\n",
      "Total Legal Moves :  32\n",
      "Total Legal Moves :  32\n",
      "Total Legal Moves :  32\n",
      "Total Legal Moves :  32\n",
      "Total Legal Moves :  32\n",
      "Total Legal Moves :  32\n",
      "Total Legal Moves :  32\n",
      "Total Legal Moves :  32\n",
      "Total Legal Moves :  32\n",
      "Total Legal Moves :  32\n",
      "Total Legal Moves :  25\n",
      "Total Legal Moves :  32\n",
      "Total Legal Moves :  27\n",
      "Total Legal Moves :  31\n",
      "Total Legal Moves :  32\n",
      "Total Legal Moves :  31\n",
      "Total Legal Moves :  30\n",
      "Total Legal Moves :  31\n",
      "Total Legal Moves :  30\n",
      "Total Legal Moves :  31\n",
      "Total Legal Moves :  25\n",
      "Total Legal Moves :  32\n",
      "Total Legal Moves :  30\n",
      "Total Legal Moves :  28\n",
      "(217, 217, 3)\n",
      "*********************** discover_attack **********************\n",
      "Total Legal Moves :  29\n",
      "Total Legal Moves :  29\n",
      "Total Legal Moves :  29\n",
      "Total Legal Moves :  29\n",
      "Total Legal Moves :  29\n",
      "Total Legal Moves :  29\n",
      "Total Legal Moves :  29\n",
      "Total Legal Moves :  29\n",
      "Total Legal Moves :  29\n",
      "Total Legal Moves :  29\n",
      "Total Legal Moves :  28\n",
      "Total Legal Moves :  28\n",
      "Total Legal Moves :  26\n",
      "Total Legal Moves :  27\n",
      "Total Legal Moves :  11\n",
      "(217, 217, 3)\n",
      "*********************** standoff **********************\n",
      "Total Legal Moves :  38\n",
      "Total Legal Moves :  38\n",
      "Total Legal Moves :  38\n",
      "Total Legal Moves :  38\n",
      "Total Legal Moves :  38\n",
      "Total Legal Moves :  38\n",
      "Total Legal Moves :  38\n",
      "Total Legal Moves :  38\n",
      "Total Legal Moves :  37\n",
      "Total Legal Moves :  38\n",
      "Total Legal Moves :  37\n",
      "Total Legal Moves :  28\n",
      "Total Legal Moves :  37\n",
      "Total Legal Moves :  37\n",
      "Total Legal Moves :  34\n",
      "Total Legal Moves :  36\n",
      "Total Legal Moves :  31\n",
      "31 \r"
     ]
    },
    {
     "name": "stderr",
     "output_type": "stream",
     "text": [
      "/home/dhruv/.local/lib/python3.6/site-packages/ipykernel_launcher.py:147: RuntimeWarning: More than 20 figures have been opened. Figures created through the pyplot interface (`matplotlib.pyplot.figure`) are retained until explicitly closed and may consume too much memory. (To control this warning, see the rcParam `figure.max_open_warning`).\n",
      "/home/dhruv/.local/lib/python3.6/site-packages/ipykernel_launcher.py:156: RuntimeWarning: More than 20 figures have been opened. Figures created through the pyplot interface (`matplotlib.pyplot.figure`) are retained until explicitly closed and may consume too much memory. (To control this warning, see the rcParam `figure.max_open_warning`).\n"
     ]
    },
    {
     "name": "stdout",
     "output_type": "stream",
     "text": [
      "(217, 217, 3)\n",
      "*********************** rook_takes_bishop **********************\n",
      "Total Legal Moves :  39\n",
      "Total Legal Moves :  39\n",
      "Total Legal Moves :  39\n",
      "Total Legal Moves :  39\n",
      "Total Legal Moves :  39\n",
      "Total Legal Moves :  39\n",
      "Total Legal Moves :  39\n",
      "Total Legal Moves :  39\n",
      "Total Legal Moves :  39\n",
      "Total Legal Moves :  39\n",
      "Total Legal Moves :  39\n",
      "Total Legal Moves :  39\n",
      "Total Legal Moves :  39\n",
      "Total Legal Moves :  39\n",
      "Total Legal Moves :  39\n",
      "Total Legal Moves :  35\n",
      "Total Legal Moves :  34\n",
      "Total Legal Moves :  38\n",
      "Total Legal Moves :  34\n",
      "Total Legal Moves :  37\n",
      "Total Legal Moves :  37\n",
      "Total Legal Moves :  39\n",
      "Total Legal Moves :  35\n",
      "Total Legal Moves :  39\n",
      "Total Legal Moves :  37\n",
      "Total Legal Moves :  34\n",
      "(217, 217, 3)\n",
      "*********************** bishop_takes_queen **********************\n",
      "Total Legal Moves :  39\n",
      "Total Legal Moves :  39\n",
      "Total Legal Moves :  39\n",
      "Total Legal Moves :  39\n",
      "Total Legal Moves :  39\n",
      "Total Legal Moves :  39\n",
      "Total Legal Moves :  39\n",
      "Total Legal Moves :  39\n",
      "Total Legal Moves :  39\n",
      "Total Legal Moves :  39\n",
      "Total Legal Moves :  39\n",
      "Total Legal Moves :  39\n",
      "Total Legal Moves :  28\n",
      "Total Legal Moves :  39\n",
      "Total Legal Moves :  32\n",
      "Total Legal Moves :  37\n",
      "Total Legal Moves :  37\n",
      "Total Legal Moves :  37\n",
      "Total Legal Moves :  37\n",
      "Total Legal Moves :  37\n",
      "Total Legal Moves :  35\n",
      "(217, 217, 3)\n",
      "*********************** bishop_up **********************\n",
      "Total Legal Moves :  41\n",
      "Total Legal Moves :  41\n",
      "Total Legal Moves :  41\n",
      "Total Legal Moves :  41\n",
      "Total Legal Moves :  41\n",
      "Total Legal Moves :  41\n",
      "Total Legal Moves :  41\n",
      "Total Legal Moves :  41\n",
      "Total Legal Moves :  41\n",
      "Total Legal Moves :  41\n",
      "Total Legal Moves :  41\n",
      "Total Legal Moves :  41\n",
      "Total Legal Moves :  41\n",
      "Total Legal Moves :  41\n",
      "Total Legal Moves :  40\n",
      "Total Legal Moves :  40\n",
      "Total Legal Moves :  40\n",
      "Total Legal Moves :  36\n",
      "Total Legal Moves :  39\n",
      "Total Legal Moves :  39\n",
      "Total Legal Moves :  32\n",
      "Total Legal Moves :  39\n",
      "Total Legal Moves :  39\n",
      "Total Legal Moves :  40\n",
      "Total Legal Moves :  39\n",
      "Total Legal Moves :  37\n",
      "(217, 217, 3)\n",
      "*********************** bishop_fork **********************\n",
      "Total Legal Moves :  43\n",
      "Total Legal Moves :  43\n",
      "Total Legal Moves :  43\n",
      "Total Legal Moves :  43\n",
      "Total Legal Moves :  43\n",
      "Total Legal Moves :  43\n",
      "Total Legal Moves :  43\n",
      "Total Legal Moves :  43\n",
      "Total Legal Moves :  43\n",
      "Total Legal Moves :  43\n",
      "Total Legal Moves :  43\n",
      "Total Legal Moves :  43\n",
      "Total Legal Moves :  40\n",
      "Total Legal Moves :  43\n",
      "Total Legal Moves :  37\n",
      "Total Legal Moves :  42\n",
      "Total Legal Moves :  39\n",
      "Total Legal Moves :  43\n",
      "Total Legal Moves :  41\n",
      "Total Legal Moves :  41\n",
      "Total Legal Moves :  38\n",
      "Total Legal Moves :  33\n",
      "Total Legal Moves :  42\n",
      "(217, 217, 3)\n"
     ]
    },
    {
     "data": {
      "image/png": "[encoded data removed]",
      "text/plain": [
       "<Figure size 432x288 with 1 Axes>"
      ]
     },
     "metadata": {
      "needs_background": "light"
     },
     "output_type": "display_data"
    },
    {
     "data": {
      "image/png": "[encoded data removed]",
      "text/plain": [
       "<Figure size 432x288 with 1 Axes>"
      ]
     },
     "metadata": {
      "needs_background": "light"
     },
     "output_type": "display_data"
    },
    {
     "data": {
      "image/png": "[encoded data removed]",
      "text/plain": [
       "<Figure size 432x288 with 1 Axes>"
      ]
     },
     "metadata": {
      "needs_background": "light"
     },
     "output_type": "display_data"
    },
    {
     "data": {
      "image/png": "[encoded data removed]",
      "text/plain": [
       "<Figure size 432x288 with 1 Axes>"
      ]
     },
     "metadata": {
      "needs_background": "light"
     },
     "output_type": "display_data"
    },
    {
     "data": {
      "image/png": "[encoded data removed]",
      "text/plain": [
       "<Figure size 432x288 with 1 Axes>"
      ]
     },
     "metadata": {
      "needs_background": "light"
     },
     "output_type": "display_data"
    },
    {
     "data": {
      "image/png": "[encoded data removed]",
      "text/plain": [
       "<Figure size 432x288 with 1 Axes>"
      ]
     },
     "metadata": {
      "needs_background": "light"
     },
     "output_type": "display_data"
    },
    {
     "data": {
      "image/png": "[encoded data removed]",
      "text/plain": [
       "<Figure size 432x288 with 1 Axes>"
      ]
     },
     "metadata": {
      "needs_background": "light"
     },
     "output_type": "display_data"
    },
    {
     "data": {
      "image/png": "[encoded data removed]",
      "text/plain": [
       "<Figure size 432x288 with 1 Axes>"
      ]
     },
     "metadata": {
      "needs_background": "light"
     },
     "output_type": "display_data"
    },
    {
     "data": {
      "image/png": "[encoded data removed]",
      "text/plain": [
       "<Figure size 432x288 with 1 Axes>"
      ]
     },
     "metadata": {
      "needs_background": "light"
     },
     "output_type": "display_data"
    },
    {
     "data": {
      "image/png": "[encoded data removed]",
      "text/plain": [
       "<Figure size 432x288 with 1 Axes>"
      ]
     },
     "metadata": {
      "needs_background": "light"
     },
     "output_type": "display_data"
    },
    {
     "data": {
      "image/png": "[encoded data removed]",
      "text/plain": [
       "<Figure size 432x288 with 1 Axes>"
      ]
     },
     "metadata": {
      "needs_background": "light"
     },
     "output_type": "display_data"
    },
    {
     "data": {
      "image/png": "[encoded data removed]",
      "text/plain": [
       "<Figure size 432x288 with 1 Axes>"
      ]
     },
     "metadata": {
      "needs_background": "light"
     },
     "output_type": "display_data"
    },
    {
     "data": {
      "image/png": "[encoded data removed]",
      "text/plain": [
       "<Figure size 432x288 with 1 Axes>"
      ]
     },
     "metadata": {
      "needs_background": "light"
     },
     "output_type": "display_data"
    },
    {
     "data": {
      "image/png": "[encoded data removed]",
      "text/plain": [
       "<Figure size 432x288 with 1 Axes>"
      ]
     },
     "metadata": {
      "needs_background": "light"
     },
     "output_type": "display_data"
    },
    {
     "data": {
      "image/png": "[encoded data removed]",
      "text/plain": [
       "<Figure size 432x288 with 1 Axes>"
      ]
     },
     "metadata": {
      "needs_background": "light"
     },
     "output_type": "display_data"
    },
    {
     "data": {
      "image/png": "[encoded data removed]",
      "text/plain": [
       "<Figure size 432x288 with 1 Axes>"
      ]
     },
     "metadata": {
      "needs_background": "light"
     },
     "output_type": "display_data"
    },
    {
     "data": {
      "image/png": "[encoded data removed]",
      "text/plain": [
       "<Figure size 432x288 with 1 Axes>"
      ]
     },
     "metadata": {
      "needs_background": "light"
     },
     "output_type": "display_data"
    },
    {
     "data": {
      "image/png": "[encoded data removed]",
      "text/plain": [
       "<Figure size 432x288 with 1 Axes>"
      ]
     },
     "metadata": {
      "needs_background": "light"
     },
     "output_type": "display_data"
    },
    {
     "data": {
      "image/png": "[encoded data removed]",
      "text/plain": [
       "<Figure size 432x288 with 1 Axes>"
      ]
     },
     "metadata": {
      "needs_background": "light"
     },
     "output_type": "display_data"
    },
    {
     "data": {
      "image/png": "[encoded data removed]",
      "text/plain": [
       "<Figure size 432x288 with 1 Axes>"
      ]
     },
     "metadata": {
      "needs_background": "light"
     },
     "output_type": "display_data"
    },
    {
     "data": {
      "image/png": "[encoded data removed]",
      "text/plain": [
       "<Figure size 432x288 with 1 Axes>"
      ]
     },
     "metadata": {
      "needs_background": "light"
     },
     "output_type": "display_data"
    },
    {
     "data": {
      "image/png": "[encoded data removed]",
      "text/plain": [
       "<Figure size 432x288 with 1 Axes>"
      ]
     },
     "metadata": {
      "needs_background": "light"
     },
     "output_type": "display_data"
    },
    {
     "data": {
      "image/png": "[encoded data removed]",
      "text/plain": [
       "<Figure size 432x288 with 1 Axes>"
      ]
     },
     "metadata": {
      "needs_background": "light"
     },
     "output_type": "display_data"
    },
    {
     "data": {
      "image/png": "[encoded data removed]",
      "text/plain": [
       "<Figure size 432x288 with 1 Axes>"
      ]
     },
     "metadata": {
      "needs_background": "light"
     },
     "output_type": "display_data"
    },
    {
     "data": {
      "image/png": "[encoded data removed]",
      "text/plain": [
       "<Figure size 432x288 with 1 Axes>"
      ]
     },
     "metadata": {
      "needs_background": "light"
     },
     "output_type": "display_data"
    },
    {
     "data": {
      "image/png": "[encoded data removed]",
      "text/plain": [
       "<Figure size 432x288 with 1 Axes>"
      ]
     },
     "metadata": {
      "needs_background": "light"
     },
     "output_type": "display_data"
    },
    {
     "data": {
      "image/png": "[encoded data removed]",
      "text/plain": [
       "<Figure size 432x288 with 1 Axes>"
      ]
     },
     "metadata": {
      "needs_background": "light"
     },
     "output_type": "display_data"
    },
    {
     "data": {
      "image/png": "[encoded data removed]",
      "text/plain": [
       "<Figure size 432x288 with 1 Axes>"
      ]
     },
     "metadata": {
      "needs_background": "light"
     },
     "output_type": "display_data"
    },
    {
     "data": {
      "image/png": "[encoded data removed]",
      "text/plain": [
       "<Figure size 432x288 with 1 Axes>"
      ]
     },
     "metadata": {
      "needs_background": "light"
     },
     "output_type": "display_data"
    },
    {
     "data": {
      "image/png": "[encoded data removed]",
      "text/plain": [
       "<Figure size 432x288 with 1 Axes>"
      ]
     },
     "metadata": {
      "needs_background": "light"
     },
     "output_type": "display_data"
    }
   ],
   "source": [
    "def heat(dictP, dictQ):\n",
    "    Dpq = 0.\n",
    "    Q_p = [] #values of moves in dictP^dictQ wrt P\n",
    "    Q_q = [] #values of moves in dictP^dictQ wrt Q\n",
    "    dic = dictP.copy()\n",
    "    dic.update(dictQ)\n",
    "    for move in dic:\n",
    "        if move in dictP:\n",
    "            Q_p.append(dictP[move])\n",
    "        else:\n",
    "            Q_p.append(0.)\n",
    "        if move in dictQ:\n",
    "            Q_q.append(dictQ[move])\n",
    "        else:\n",
    "            Q_q.append(0.)\n",
    "    # converting Q-values into probability distribution        \n",
    "    Q_p = your_softmax(np.asarray(Q_p))\n",
    "    Q_q = your_softmax(np.asarray(Q_q))\n",
    "    \n",
    "    S = np.linalg.norm(Q_q - Q_p)\n",
    "\n",
    "    return S\n",
    "\n",
    "board_configs = {}\n",
    "board_configs['queen_trap'] = '2r1r1k1/b4ppp/p3p3/Pp2Nq2/1Pbp1B2/R7/2PQ1PP1/4R1K1 w - - 0 1'\n",
    "board_configs['queen_fork'] = 'rnbq1rk1/pp2bppp/4p3/3p3n/3P1B2/3B1N2/PPPNQPPP/R3K2R w KQkq - 0 1'\n",
    "board_configs['bishop_takes_rook'] = 'rnbqk1nr/1p3ppp/4p3/2bp4/8/p3PN2/1BP2PPP/RN1QKB1R w - - 0 1'\n",
    "board_configs['pawn_takes_bishop'] = '1k3r2/p6p/2p1Bp2/4p3/1b1pP3/3P2P1/P1K4P/5R2 w - - 0 1'\n",
    "board_configs['showdown'] = 'rn1qk1nr/p1pp1ppp/1pb1p3/8/2BQ4/2P2N2/PPP2PPP/R1B2RK1 w - - 0 1'\n",
    "board_configs['rook_captures_queen'] = 'r1r5/2k3pp/2p2p2/1pR1pq2/PQ1n4/3P4/1P4PP/1KRB4 w - - 0 1'\n",
    "board_configs['knight_captures_queen'] = 'r2r4/1kp2p1p/1q2b1p1/R7/Q7/P1N5/1PP4P/1K5R w - - 0 1'\n",
    "board_configs['rook_up'] = '4r1k1/1R4p1/4qp1p/8/3r4/1Q3R1P/6P1/7K w - - 0 1'\n",
    "board_configs['queen_exchange'] = '2kr3r/bbqp1pp1/p3p3/1p2n3/1P1NPBnp/P2B2QP/2P1NPP1/R1R3K1 w - - 0 1'\n",
    "board_configs['discover_attack'] = '1r6/pkp2p1p/5b2/5p2/5P2/q1PP4/2R1N2P/1K4Q1 w - - 0 1'\n",
    "board_configs['standoff'] = '1kr5/pr4p1/5n1p/5p2/3P4/qbR2P1P/B2Q1NP1/K6R w - - 0 1'\n",
    "board_configs['rook_takes_bishop'] = '1kr2b1r/1pq2bpp/p3np2/2p1p3/4P3/2N1BPN1/PPPR1QPP/1K1R4 w - - 0 1'\n",
    "board_configs['bishop_takes_queen'] = '5rk1/p1q2ppp/1p2p1n1/2p1r2Q/2P5/3B4/PP3PPP/3RR1K1 w - - 0 1'\n",
    "board_configs['bishop_up'] = '4rrk1/pp1qp1bp/2pnbpp1/8/3PNP2/2PB4/PP2Q1PP/R1B2RK1 w - - 0 1'\n",
    "board_configs['bishop_fork'] = '2b1r1k1/2q1bppp/2p3n1/r1B1p3/N3n3/5N2/P3BPPP/2RQ1RK1 w - - 0 1'\n",
    "\n",
    "for board_name in board_configs:\n",
    "    print(\"***********************\", board_name, \"**********************\")\n",
    "    time.sleep(1)\n",
    "    board = chess.Board(board_configs[board_name])\n",
    "    evaltime = 100\n",
    "    \n",
    "    # set original state \n",
    "    engine.position(board)\n",
    "    evaluation = engine.go(movetime=evaltime)\n",
    "    original_move = evaluation.bestmove\n",
    "\n",
    "    legal_moves = list(board.legal_moves)[:]\n",
    "\n",
    "    \n",
    "    # Q-values for original state\n",
    "    q_vals_dict_og, q_vals, _,second_best_move  = moves_q_vals(board, legal_moves, evaltime, original_move)\n",
    "\n",
    "    old_V = np.max(q_vals)\n",
    "\n",
    "    \n",
    "    # probability of original_move in original state\n",
    "    old_score = np.exp(max(q_vals))/np.sum(np.exp(q_vals))\n",
    "\n",
    "    heatmapV = np.zeros((8, 8))\n",
    "    heatmapP = np.zeros((8, 8))\n",
    "\n",
    "    for h in range(8):\n",
    "        for w in range(8):\n",
    "        # perturb board\n",
    "            pos = 8*(7-h) + w\n",
    "            piece_removed = board.remove_piece_at(pos)\n",
    "\n",
    "            # Evaluate the board on the basis of the value\n",
    "            if piece_removed is not None:\n",
    "\n",
    "                # If king is removed or if board position is illegal set it back \n",
    "                if (piece_removed == chess.Piece(6,True) or piece_removed == chess.Piece(6,False)) or board.was_into_check():\n",
    "                    board.set_piece_at(pos, piece_removed)\n",
    "                else:\n",
    "                    # set perturbed state\n",
    "                    engine.position(board)\n",
    "\n",
    "                    # Check if the original move is still valid\n",
    "                    if board.is_legal(original_move):\n",
    "\n",
    "                        # Find the index of the original move in the list of legal moves\n",
    "                        j = 0\n",
    "                        original_move_index = 0\n",
    "                        for el in legal_moves:\n",
    "                            if el in board.legal_moves:\n",
    "                                if(el == original_move):\n",
    "                                    original_move_index = j\n",
    "                                j+=1\n",
    "\n",
    "                        # Find the q values \n",
    "                        q_vals_dict_new, q_vals, new_best_move, new_second_best_move = moves_q_vals(board, legal_moves, evaltime, original_move)\n",
    "\n",
    "                        # probability of original move in perturbed state\n",
    "                        new_score = np.exp(q_vals[original_move_index])/np.sum(np.exp(q_vals))\n",
    "\n",
    "                        new_q = q_vals[original_move_index]\n",
    "                         \n",
    "                        new_V = np.max(np.asarray(q_vals))\n",
    "\n",
    "                        K = heat(q_vals_dict_new, q_vals_dict_og)\n",
    "                        heatmapV[h,w] = 0.5*(old_V - new_V)**2\n",
    "                        heatmapP[h, w] = K\n",
    "\n",
    "                    else:\n",
    "                        # illegal original move in perturbed state\n",
    "                        heatmapP[h, w] = -1.\n",
    "                        heatmapV[h, w] = -1\n",
    "                    # undo perturbation\n",
    "                    board.set_piece_at(pos, piece_removed)\n",
    "\n",
    "\n",
    "    # If original move is not valid, give highest value in the heat map\n",
    "    heatmapV[heatmapV == -1] = np.max(heatmapV)\n",
    "    heatmapP[heatmapP == -1] = np.max(heatmapP)\n",
    "\n",
    "#     heatmap = np.zeros((8,8,3))\n",
    "#     heatmapV = (heatmapV - np.min(heatmapV))/(np.max(heatmapV) - np.min(heatmapV))\n",
    "#     heatmapP = (heatmapP - np.min(heatmapP))/(np.max(heatmapP) - np.min(heatmapP))\n",
    "#     heatmap = np.zeros((8,8))\n",
    "#     heatmap[heatmapV >= heatmapP] = heatmapV + heatmapP\n",
    "#     heatmap[heatmapV < heatmapP] = -1.0*(heatmapV + heatmapP)\n",
    "    \n",
    "    plt.figure(1)\n",
    "    plt.imshow(heatmapP, cmap='OrRd')\n",
    "    plt.savefig('results/value_l2/policy_map_' + board_name + '.png')\n",
    "    \n",
    "    svg = svg_custom.board(board)\n",
    "    with open('board.svg', 'w+') as f:\n",
    "        f.write(svg)\n",
    "    cairosvg.svg2png(url='board.svg', write_to='board.png')\n",
    "    board_array = cv2.imread('board.png')\n",
    "\n",
    "    fig=plt.figure()\n",
    "    ax=fig.add_subplot(1,1,1)\n",
    "    plt.axis('off')\n",
    "    plt.imshow(heatmapV, cmap='OrRd')\n",
    "    extent = ax.get_window_extent().transformed(fig.dpi_scale_trans.inverted())\n",
    "    plt.savefig('/tmp/test.png', bbox_inches='tight', pad_inches=0)\n",
    "\n",
    "    imgV = cv2.imread('/tmp/test.png')\n",
    "    \n",
    "    fig=plt.figure()\n",
    "    ax=fig.add_subplot(1,1,1)\n",
    "    plt.axis('off')\n",
    "    plt.imshow(heatmapP, cmap='OrRd')\n",
    "    extent = ax.get_window_extent().transformed(fig.dpi_scale_trans.inverted())\n",
    "    plt.savefig('/tmp/test.png', bbox_inches='tight', pad_inches=0)\n",
    "\n",
    "    img = cv2.imread('/tmp/test.png')\n",
    "\n",
    "    \n",
    "#     img = cv2.addWeighted(imgP,0.5,imgV,0.5,0)\n",
    "  \n",
    "    print(img.shape)\n",
    "    \n",
    "    n = board_array.shape[0]\n",
    "    m = board_array.shape[1]\n",
    "    color_threshold = 200\n",
    "    for i in range(0, 8, 1):\n",
    "        for j in range(0, 8, 1):\n",
    "            color_i = i*27 + 13\n",
    "            color_j = j*27 + 13\n",
    "            ii = 45*i+20\n",
    "            jj = 45*j+20\n",
    "\n",
    "            grayscale = 0.299*img[color_i, color_j][2] + 0.587*img[color_i, color_j][1] + 0.114*img[color_i, color_j][0]\n",
    "            if grayscale > 200:\n",
    "                continue\n",
    "\n",
    "            for box_i in range(ii, ii+44, 1):\n",
    "                for box_j in range(jj, jj+44, 1):\n",
    "                    if box_i > ii+4 and box_i < ii+40 and box_j > jj+4 and box_j < jj+40:\n",
    "                        continue\n",
    "                    \n",
    "                    board_array[box_i, box_j] = img[color_i, color_j]\n",
    "\n",
    "    cv2.imwrite(\"results/value_l2/policy_\" + board_name + \".png\" ,board_array)\n",
    "#     break\n",
    "    \n",
    "    "
   ]
  },
  {
   "cell_type": "code",
   "execution_count": 51,
   "metadata": {},
   "outputs": [],
   "source": [
    "heatmapV = (heatmapV - np.min(heatmapV))/(np.max(heatmapV) - np.min(heatmapV))\n",
    "heatmapP = (heatmapP - np.min(heatmapP))/(np.max(heatmapP) - np.min(heatmapP))\n",
    "heatmap = np.zeros((8,8))\n",
    "idx1 = (heatmapV >= heatmapP)\n",
    "idx2 = (heatmapV < heatmapP)\n",
    "heatmap[idx1] = heatmapV[idx1] + heatmapP[idx1]\n",
    "heatmap[idx2] = -1.0*(heatmapV[idx2] + heatmapP[idx2])\n",
    "# heatmap[heatmapV < heatmapP] = 1\n",
    "\n"
   ]
  },
  {
   "cell_type": "code",
   "execution_count": null,
   "metadata": {},
   "outputs": [],
   "source": []
  }
 ],
 "metadata": {
  "kernelspec": {
   "display_name": "Python 3",
   "language": "python",
   "name": "python3"
  },
  "language_info": {
   "codemirror_mode": {
    "name": "ipython",
    "version": 3
   },
   "file_extension": ".py",
   "mimetype": "text/x-python",
   "name": "python",
   "nbconvert_exporter": "python",
   "pygments_lexer": "ipython3",
   "version": "3.6.8"
  }
 },
 "nbformat": 4,
 "nbformat_minor": 2
}
